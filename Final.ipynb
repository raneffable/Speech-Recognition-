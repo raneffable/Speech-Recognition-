{
 "cells": [
  {
   "cell_type": "code",
   "execution_count": 26,
   "metadata": {},
   "outputs": [],
   "source": [
    "from os import listdir\n",
    "from os.path import isdir, join\n",
    "import librosa\n",
    "import numpy as np\n",
    "import matplotlib.pyplot as plt\n",
    "import python_speech_features\n",
    "import pydub\n",
    "from pathlib import Path\n",
    "import tensorflow as tf\n",
    "from tensorflow import keras\n",
    "import pyaudio\n",
    "import wave\n",
    "import pyautogui\n",
    "import time"
   ]
  },
  {
   "cell_type": "code",
   "execution_count": 27,
   "metadata": {},
   "outputs": [
    {
     "name": "stdout",
     "output_type": "stream",
     "text": [
      "(20, 861)\n"
     ]
    }
   ],
   "source": [
    "song = Path('Rec/Jalan Kanan/Marchel_Kanan.wav')\n",
    "a = pydub.AudioSegment.from_wav(song)\n",
    "x = np.array(a.get_array_of_samples(), np.float32)\n",
    "x = librosa.feature.mfcc(x)\n",
    "print(x.shape)"
   ]
  },
  {
   "cell_type": "code",
   "execution_count": 28,
   "metadata": {},
   "outputs": [],
   "source": [
    "X = []\n",
    "Y = []\n",
    "names = ['Bom Kanan', 'Jalan Kanan', 'Tembak Atas', 'Tembak Kanan', 'Bom Kiri', 'Hidup'\n",
    ", 'Jalan Kiri', 'Lompat', 'Melompat Kanan', 'Melompat Kiri', 'Nunduk', 'Tembak Kiri', 'Tembak Nunduk' ]"
   ]
  },
  {
   "cell_type": "code",
   "execution_count": 29,
   "metadata": {},
   "outputs": [],
   "source": [
    "def file_rec(file_path):\n",
    "    a = pydub.AudioSegment.from_wav(file_path)\n",
    "    x = np.array(a.get_array_of_samples(), np.float32)\n",
    "    return librosa.feature.mfcc(x)"
   ]
  },
  {
   "cell_type": "code",
   "execution_count": 30,
   "metadata": {},
   "outputs": [],
   "source": [
    "for i in range(25):\n",
    "    x = file_rec('Rec/Bom Kiri/Marchel_BomKiri.wav')\n",
    "    X.append(x)\n",
    "    Y.append(names.index(\"Bom Kiri\"))"
   ]
  },
  {
   "cell_type": "code",
   "execution_count": 31,
   "metadata": {},
   "outputs": [],
   "source": [
    "for i in range(25):\n",
    "    x = file_rec('Rec/Bom Kanan/Marchel_BomKanan.wav')\n",
    "    X.append(x)\n",
    "    Y.append(names.index(\"Bom Kanan\"))"
   ]
  },
  {
   "cell_type": "code",
   "execution_count": 32,
   "metadata": {},
   "outputs": [],
   "source": [
    "for i in range(25):\n",
    "    x = file_rec('Rec/Jalan Kanan/Marchel_Kanan.wav')\n",
    "    X.append(x)\n",
    "    Y.append(names.index(\"Jalan Kanan\"))"
   ]
  },
  {
   "cell_type": "code",
   "execution_count": 33,
   "metadata": {},
   "outputs": [],
   "source": [
    "for i in range(25):\n",
    "    x = file_rec('Rec/Hidup/Marchel_Hidup.wav')\n",
    "    X.append(x)\n",
    "    Y.append(names.index(\"Hidup\"))"
   ]
  },
  {
   "cell_type": "code",
   "execution_count": 34,
   "metadata": {},
   "outputs": [],
   "source": [
    "for i in range(25):\n",
    "    x = file_rec('Rec/Jalan Kiri/Marchel_Kiri.wav')\n",
    "    X.append(x)\n",
    "    Y.append(names.index(\"Jalan Kiri\"))"
   ]
  },
  {
   "cell_type": "code",
   "execution_count": 35,
   "metadata": {},
   "outputs": [],
   "source": [
    "for i in range(25):\n",
    "    x = file_rec('Rec/Lompat/Marchel_Lompat.wav')\n",
    "    X.append(x)\n",
    "    Y.append(names.index(\"Lompat\"))"
   ]
  },
  {
   "cell_type": "code",
   "execution_count": 36,
   "metadata": {},
   "outputs": [],
   "source": [
    "for i in range(25):\n",
    "    x = file_rec('Rec/Melompat Kanan/Marchel_MelompatKanan.wav')\n",
    "    X.append(x)\n",
    "    Y.append(names.index(\"Melompat Kanan\"))"
   ]
  },
  {
   "cell_type": "code",
   "execution_count": 37,
   "metadata": {},
   "outputs": [],
   "source": [
    "for i in range(25):\n",
    "    x = file_rec('Rec/Melompat Kiri/Marchel_MelompatKiri.wav')\n",
    "    X.append(x)\n",
    "    Y.append(names.index(\"Melompat Kiri\"))"
   ]
  },
  {
   "cell_type": "code",
   "execution_count": 38,
   "metadata": {},
   "outputs": [],
   "source": [
    "for i in range(25):\n",
    "    x = file_rec('Rec/Nunduk/Marchel_Nunduk.wav')\n",
    "    X.append(x)\n",
    "    Y.append(names.index(\"Nunduk\"))"
   ]
  },
  {
   "cell_type": "code",
   "execution_count": 39,
   "metadata": {},
   "outputs": [],
   "source": [
    "for i in range(25):\n",
    "    x = file_rec('Rec/Tembak Kiri/Marchel_TembakKiri.wav')\n",
    "    X.append(x)\n",
    "    Y.append(names.index(\"Tembak Kiri\"))"
   ]
  },
  {
   "cell_type": "code",
   "execution_count": 40,
   "metadata": {},
   "outputs": [],
   "source": [
    "for i in range(25):\n",
    "    x = file_rec('Rec/Tembak Nunduk/Marchel_TembakNunduk.wav')\n",
    "    X.append(x)\n",
    "    Y.append(names.index(\"Tembak Nunduk\"))"
   ]
  },
  {
   "cell_type": "code",
   "execution_count": 41,
   "metadata": {},
   "outputs": [],
   "source": [
    "for i in range(25):\n",
    "    x = file_rec('Rec/Tembak Atas/Marchel_TembakAtas.wav')\n",
    "    X.append(x)\n",
    "    Y.append(names.index(\"Tembak Atas\"))"
   ]
  },
  {
   "cell_type": "code",
   "execution_count": 42,
   "metadata": {},
   "outputs": [],
   "source": [
    "for i in range(25):\n",
    "    x = file_rec('Rec/Tembak Kanan/Marchel_TembakKanan.wav')\n",
    "    X.append(x)\n",
    "    Y.append(names.index(\"Tembak Kanan\"))"
   ]
  },
  {
   "cell_type": "code",
   "execution_count": 43,
   "metadata": {},
   "outputs": [],
   "source": [
    "X = np.array(X)\n",
    "Y = np.array(Y)"
   ]
  },
  {
   "cell_type": "code",
   "execution_count": 44,
   "metadata": {},
   "outputs": [
    {
     "data": {
      "text/plain": [
       "array([ 4,  4,  4,  4,  4,  4,  4,  4,  4,  4,  4,  4,  4,  4,  4,  4,  4,\n",
       "        4,  4,  4,  4,  4,  4,  4,  4,  0,  0,  0,  0,  0,  0,  0,  0,  0,\n",
       "        0,  0,  0,  0,  0,  0,  0,  0,  0,  0,  0,  0,  0,  0,  0,  0,  1,\n",
       "        1,  1,  1,  1,  1,  1,  1,  1,  1,  1,  1,  1,  1,  1,  1,  1,  1,\n",
       "        1,  1,  1,  1,  1,  1,  1,  5,  5,  5,  5,  5,  5,  5,  5,  5,  5,\n",
       "        5,  5,  5,  5,  5,  5,  5,  5,  5,  5,  5,  5,  5,  5,  5,  6,  6,\n",
       "        6,  6,  6,  6,  6,  6,  6,  6,  6,  6,  6,  6,  6,  6,  6,  6,  6,\n",
       "        6,  6,  6,  6,  6,  6,  7,  7,  7,  7,  7,  7,  7,  7,  7,  7,  7,\n",
       "        7,  7,  7,  7,  7,  7,  7,  7,  7,  7,  7,  7,  7,  7,  8,  8,  8,\n",
       "        8,  8,  8,  8,  8,  8,  8,  8,  8,  8,  8,  8,  8,  8,  8,  8,  8,\n",
       "        8,  8,  8,  8,  8,  9,  9,  9,  9,  9,  9,  9,  9,  9,  9,  9,  9,\n",
       "        9,  9,  9,  9,  9,  9,  9,  9,  9,  9,  9,  9,  9, 10, 10, 10, 10,\n",
       "       10, 10, 10, 10, 10, 10, 10, 10, 10, 10, 10, 10, 10, 10, 10, 10, 10,\n",
       "       10, 10, 10, 10, 11, 11, 11, 11, 11, 11, 11, 11, 11, 11, 11, 11, 11,\n",
       "       11, 11, 11, 11, 11, 11, 11, 11, 11, 11, 11, 11, 12, 12, 12, 12, 12,\n",
       "       12, 12, 12, 12, 12, 12, 12, 12, 12, 12, 12, 12, 12, 12, 12, 12, 12,\n",
       "       12, 12, 12,  2,  2,  2,  2,  2,  2,  2,  2,  2,  2,  2,  2,  2,  2,\n",
       "        2,  2,  2,  2,  2,  2,  2,  2,  2,  2,  2,  3,  3,  3,  3,  3,  3,\n",
       "        3,  3,  3,  3,  3,  3,  3,  3,  3,  3,  3,  3,  3,  3,  3,  3,  3,\n",
       "        3,  3])"
      ]
     },
     "execution_count": 44,
     "metadata": {},
     "output_type": "execute_result"
    }
   ],
   "source": [
    "Y"
   ]
  },
  {
   "cell_type": "code",
   "execution_count": 45,
   "metadata": {},
   "outputs": [
    {
     "name": "stdout",
     "output_type": "stream",
     "text": [
      "Model: \"sequential_1\"\n",
      "_________________________________________________________________\n",
      "Layer (type)                 Output Shape              Param #   \n",
      "=================================================================\n",
      "conv2d_2 (Conv2D)            (None, 16, 857, 64)       1664      \n",
      "_________________________________________________________________\n",
      "dropout_3 (Dropout)          (None, 16, 857, 64)       0         \n",
      "_________________________________________________________________\n",
      "max_pooling2d_2 (MaxPooling2 (None, 8, 428, 64)        0         \n",
      "_________________________________________________________________\n",
      "conv2d_3 (Conv2D)            (None, 4, 424, 64)        102464    \n",
      "_________________________________________________________________\n",
      "dropout_4 (Dropout)          (None, 4, 424, 64)        0         \n",
      "_________________________________________________________________\n",
      "max_pooling2d_3 (MaxPooling2 (None, 2, 212, 64)        0         \n",
      "_________________________________________________________________\n",
      "flatten_1 (Flatten)          (None, 27136)             0         \n",
      "_________________________________________________________________\n",
      "dense_2 (Dense)              (None, 128)               3473536   \n",
      "_________________________________________________________________\n",
      "dropout_5 (Dropout)          (None, 128)               0         \n",
      "_________________________________________________________________\n",
      "dense_3 (Dense)              (None, 13)                1677      \n",
      "=================================================================\n",
      "Total params: 3,579,341\n",
      "Trainable params: 3,579,341\n",
      "Non-trainable params: 0\n",
      "_________________________________________________________________\n"
     ]
    }
   ],
   "source": [
    "model = keras.Sequential()\n",
    "model.add(keras.layers.Conv2D(64, 5, input_shape=(20, 861, 1), activation='relu'))\n",
    "model.add(keras.layers.Dropout(0.5))\n",
    "model.add(keras.layers.MaxPool2D())\n",
    "model.add(keras.layers.Conv2D(64, 5, activation='relu'))\n",
    "model.add(keras.layers.Dropout(0.5))\n",
    "model.add(keras.layers.MaxPool2D())\n",
    "model.add(keras.layers.Flatten())\n",
    "model.add(keras.layers.Dense(128, activation='relu'))\n",
    "model.add(keras.layers.Dropout(0.5))\n",
    "model.add(keras.layers.Dense(13, activation='softmax'))\n",
    "model.compile(optimizer='adam', loss='sparse_categorical_crossentropy', metrics=['accuracy'])\n",
    "model.summary()"
   ]
  },
  {
   "cell_type": "code",
   "execution_count": 46,
   "metadata": {},
   "outputs": [
    {
     "name": "stdout",
     "output_type": "stream",
     "text": [
      "Epoch 1/10\n",
      "11/11 [==============================] - 7s 591ms/step - loss: 63.3068 - accuracy: 0.2554\n",
      "Epoch 2/10\n",
      "11/11 [==============================] - 6s 583ms/step - loss: 0.1683 - accuracy: 0.9569\n",
      "Epoch 3/10\n",
      "11/11 [==============================] - 7s 607ms/step - loss: 0.0643 - accuracy: 0.9815\n",
      "Epoch 4/10\n",
      "11/11 [==============================] - 6s 563ms/step - loss: 0.0267 - accuracy: 0.9877\n",
      "Epoch 5/10\n",
      "11/11 [==============================] - 7s 637ms/step - loss: 0.0048 - accuracy: 1.0000\n",
      "Epoch 6/10\n",
      "11/11 [==============================] - 7s 579ms/step - loss: 0.0105 - accuracy: 0.9938\n",
      "Epoch 7/10\n",
      "11/11 [==============================] - 6s 556ms/step - loss: 0.0349 - accuracy: 0.9877\n",
      "Epoch 8/10\n",
      "11/11 [==============================] - 6s 534ms/step - loss: 0.0375 - accuracy: 0.9969\n",
      "Epoch 9/10\n",
      "11/11 [==============================] - 6s 554ms/step - loss: 0.0045 - accuracy: 1.0000\n",
      "Epoch 10/10\n",
      "11/11 [==============================] - 6s 537ms/step - loss: 0.0051 - accuracy: 0.9969\n"
     ]
    },
    {
     "data": {
      "text/plain": [
       "<keras.callbacks.History at 0x2299881cb20>"
      ]
     },
     "execution_count": 46,
     "metadata": {},
     "output_type": "execute_result"
    }
   ],
   "source": [
    "model.fit(X[:,:,:,None], Y, epochs=10)"
   ]
  },
  {
   "cell_type": "code",
   "execution_count": 47,
   "metadata": {},
   "outputs": [
    {
     "data": {
      "text/plain": [
       "'Tembak Atas'"
      ]
     },
     "execution_count": 47,
     "metadata": {},
     "output_type": "execute_result"
    }
   ],
   "source": [
    "x = file_rec('Rec/Jalan Kanan/Hendri_kanan.wav')\n",
    "names[model.predict(x[None,:,:,None]).argmax()]"
   ]
  },
  {
   "cell_type": "code",
   "execution_count": 48,
   "metadata": {},
   "outputs": [
    {
     "data": {
      "text/plain": [
       "'Lompat'"
      ]
     },
     "execution_count": 48,
     "metadata": {},
     "output_type": "execute_result"
    }
   ],
   "source": [
    "x = file_rec('Rec/Tembak Kanan/Ran_TembakKanan.wav')\n",
    "names[model.predict(x[None,:,:,None]).argmax()]"
   ]
  },
  {
   "cell_type": "code",
   "execution_count": 49,
   "metadata": {},
   "outputs": [
    {
     "data": {
      "text/plain": [
       "'Jalan Kiri'"
      ]
     },
     "execution_count": 49,
     "metadata": {},
     "output_type": "execute_result"
    }
   ],
   "source": [
    "x = file_rec('Rec/Bom Kiri/Ran_bomkiri.wav')\n",
    "names[model.predict(x[None,:,:,None]).argmax()]"
   ]
  },
  {
   "cell_type": "code",
   "execution_count": 50,
   "metadata": {},
   "outputs": [
    {
     "data": {
      "text/plain": [
       "'Tembak Atas'"
      ]
     },
     "execution_count": 50,
     "metadata": {},
     "output_type": "execute_result"
    }
   ],
   "source": [
    "x = file_rec('Rec/Bom Kanan/Hendri_BomKanan.wav')\n",
    "names[model.predict(x[None,:,:,None]).argmax()]"
   ]
  },
  {
   "cell_type": "code",
   "execution_count": null,
   "metadata": {},
   "outputs": [],
   "source": [
    "time.sleep(3)\n",
    "CHUNK = 1024\n",
    "FORMAT = pyaudio.paInt16\n",
    "CHANNELS = 2\n",
    "RATE = 44100\n",
    "RECORD_SECONDS = 5\n",
    "WAVE_OUTPUT_FILENAME = \"Rec/Predict.wav\"\n",
    "\n",
    "p = pyaudio.PyAudio()\n",
    "\n",
    "stream = p.open(format=FORMAT,\n",
    "                channels=CHANNELS,\n",
    "                rate=RATE,\n",
    "                input=True,\n",
    "                frames_per_buffer=CHUNK)\n",
    "\n",
    "print(\"* recording\")\n",
    "\n",
    "frames = []\n",
    "\n",
    "for i in range(0, int(RATE / CHUNK * RECORD_SECONDS)):\n",
    "    data = stream.read(CHUNK)\n",
    "    frames.append(data)\n",
    "\n",
    "print(\"* done recording\")\n",
    "\n",
    "stream.stop_stream()\n",
    "stream.close()\n",
    "p.terminate()\n",
    "\n",
    "wf = wave.open(WAVE_OUTPUT_FILENAME, 'wb')\n",
    "wf.setnchannels(CHANNELS)\n",
    "wf.setsampwidth(p.get_sample_size(FORMAT))\n",
    "wf.setframerate(RATE)\n",
    "wf.writeframes(b''.join(frames))\n",
    "wf.close()"
   ]
  },
  {
   "cell_type": "code",
   "execution_count": 37,
   "metadata": {},
   "outputs": [
    {
     "data": {
      "text/plain": [
       "'Nunduk'"
      ]
     },
     "execution_count": 37,
     "metadata": {},
     "output_type": "execute_result"
    }
   ],
   "source": [
    "x = file_rec('Rec/Predict.wav')\n",
    "prediction = names[model.predict(x[None,:,:,None]).argmax()]\n",
    "prediction"
   ]
  },
  {
   "cell_type": "code",
   "execution_count": 38,
   "metadata": {},
   "outputs": [],
   "source": [
    "if prediction == 'Jalan Kanan':\n",
    "    pyautogui.keyDown(\"right\")\n",
    "    time.sleep(3)\n",
    "    pyautogui.keyUp(\"right\")\n",
    "elif prediction == 'Jalan Kiri':\n",
    "    pyautogui.keyDown(\"left\")\n",
    "    time.sleep(3)\n",
    "    pyautogui.keyUp(\"left\")\n",
    "elif prediction == 'Bom Kiri':\n",
    "    pyautogui.press(\"left\")\n",
    "    pyautogui.press(\"c\")\n",
    "elif prediction == 'Bom Kanan':\n",
    "    pyautogui.press(\"right\")\n",
    "    pyautogui.press(\"c\")\n",
    "elif prediction == 'Hidup':\n",
    "    pyautogui.press(\"z\")\n",
    "elif prediction == 'Lompat':\n",
    "    pyautogui.press(\"x\")\n",
    "elif prediction == 'Melompat Kanan':\n",
    "    pyautogui.keyDown(\"right\")\n",
    "    pyautogui.press(\"x\")\n",
    "    time.sleep(3)\n",
    "    pyautogui.keyUp(\"right\")\n",
    "elif prediction == 'Melompat Kiri':\n",
    "    pyautogui.keyDown(\"left\")\n",
    "    pyautogui.press(\"x\")\n",
    "    pyautogui.keyUp(\"left\")\n",
    "elif prediction == 'Nunduk':\n",
    "    pyautogui.keyDown(\"down\")\n",
    "    time.sleep(3)\n",
    "    pyautogui.keyUp(\"down\")\n",
    "elif prediction == 'Tembak Atas':\n",
    "    pyautogui.keyDown(\"up\")\n",
    "    pyautogui.press(\"z\")\n",
    "    time.sleep(1)\n",
    "    pyautogui.press(\"z\")\n",
    "    time.sleep(1)\n",
    "    pyautogui.press(\"z\")\n",
    "    time.sleep(1)\n",
    "    pyautogui.keyUp(\"up\")\n",
    "elif prediction == 'Tembak Kanan':\n",
    "    pyautogui.press(\"right\")\n",
    "    pyautogui.press(\"z\")\n",
    "    time.sleep(1)\n",
    "    pyautogui.press(\"z\")\n",
    "    time.sleep(1)\n",
    "    pyautogui.press(\"z\")\n",
    "elif prediction == 'Tembak Kiri':\n",
    "    pyautogui.press(\"left\")\n",
    "    pyautogui.press(\"z\")\n",
    "    time.sleep(1)\n",
    "    pyautogui.press(\"z\")\n",
    "    time.sleep(1)\n",
    "    pyautogui.press(\"z\")\n",
    "elif prediction == 'Tembak Nunduk':\n",
    "    pyautogui.keyDown(\"down\")\n",
    "    pyautogui.press(\"z\")\n",
    "    time.sleep(1)\n",
    "    pyautogui.press(\"z\")\n",
    "    time.sleep(1)\n",
    "    pyautogui.press(\"z\")\n",
    "    time.sleep(1)\n",
    "    pyautogui.keyUp(\"down\")\n"
   ]
  },
  {
   "cell_type": "code",
   "execution_count": null,
   "metadata": {},
   "outputs": [],
   "source": []
  }
 ],
 "metadata": {
  "kernelspec": {
   "display_name": "Python 3 (ipykernel)",
   "language": "python",
   "name": "python3"
  },
  "language_info": {
   "codemirror_mode": {
    "name": "ipython",
    "version": 3
   },
   "file_extension": ".py",
   "mimetype": "text/x-python",
   "name": "python",
   "nbconvert_exporter": "python",
   "pygments_lexer": "ipython3",
   "version": "3.8.5"
  }
 },
 "nbformat": 4,
 "nbformat_minor": 2
}
